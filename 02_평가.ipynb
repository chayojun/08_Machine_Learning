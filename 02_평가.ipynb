{
 "cells": [
  {
   "cell_type": "markdown",
   "id": "e578f2a6",
   "metadata": {},
   "source": [
    "# 3. 머신러닝에서 분류모델에서만 평가를 사용한다."
   ]
  },
  {
   "cell_type": "code",
   "execution_count": null,
   "id": "b3215911",
   "metadata": {},
   "outputs": [
    {
     "data": {
      "text/plain": [
       "0.8333333333333334"
      ]
     },
     "execution_count": 1,
     "metadata": {},
     "output_type": "execute_result"
    }
   ],
   "source": [
    "# 1. Accuracy (정확도) 전체 예측 중 얼마나 맞췄는지 측정 \n",
    "# 가장 기본적인 평가 지표\n",
    "from sklearn.metrics import accuracy_score\n",
    "\n",
    "y_true = [1, 0, 1, 1, 0, 1]\n",
    "y_pred = [1, 0, 1, 0, 0, 1]\n",
    "\n",
    "accuracy_score(y_true, y_pred)"
   ]
  },
  {
   "cell_type": "code",
   "execution_count": null,
   "id": "52a8123c",
   "metadata": {},
   "outputs": [
    {
     "data": {
      "text/plain": [
       "1.0"
      ]
     },
     "execution_count": 2,
     "metadata": {},
     "output_type": "execute_result"
    }
   ],
   "source": [
    "# 2. Precision (정밀도) 예측을 Positive로 한 것 중 실제로 Positive인 비율 \n",
    "# False Positive를 줄이고 싶을 때 중요\n",
    "# 예: 스팸 메일 필터에서 정밀도 ↑ → 일반 메일을 스팸으로 분류하지 않음\n",
    "# “모델이 맞췄다고 한 것들 중에 진짜로 맞춘 게 몇 개냐?”\n",
    "from sklearn.metrics import precision_score\n",
    "\n",
    "precision_score(y_true, y_pred)"
   ]
  },
  {
   "cell_type": "code",
   "execution_count": null,
   "id": "cb8acb08",
   "metadata": {},
   "outputs": [
    {
     "data": {
      "text/plain": [
       "0.75"
      ]
     },
     "execution_count": 3,
     "metadata": {},
     "output_type": "execute_result"
    }
   ],
   "source": [
    "# 3. Recall (재현율) 실제 Positive 중 얼마나 잘 예측했는가\n",
    "# False Negative를 줄이고 싶을 때 중요\n",
    "# 예: 암 진단 모델에서 재현율 ↑ → 환자를 놓치지 않음\n",
    "# “진짜 정답 중에서 내가 몇 개나 제대로 맞췄냐?”\n",
    "from sklearn.metrics import recall_score\n",
    "\n",
    "recall_score(y_true, y_pred)"
   ]
  },
  {
   "cell_type": "code",
   "execution_count": null,
   "id": "faade590",
   "metadata": {},
   "outputs": [
    {
     "data": {
      "text/plain": [
       "0.8571428571428571"
      ]
     },
     "execution_count": 4,
     "metadata": {},
     "output_type": "execute_result"
    }
   ],
   "source": [
    "# 4. F1 Score\n",
    "from sklearn.metrics import f1_score\n",
    "\n",
    "f1_score(y_true, y_pred)"
   ]
  },
  {
   "cell_type": "code",
   "execution_count": null,
   "id": "3388c218",
   "metadata": {},
   "outputs": [
    {
     "data": {
      "text/plain": [
       "array([[2, 0],\n",
       "       [1, 3]])"
      ]
     },
     "execution_count": 5,
     "metadata": {},
     "output_type": "execute_result"
    }
   ],
   "source": [
    "# 5. Confusion Matrix 예측 결과를 TP, FP, FN, TN으로 나눈 행렬\n",
    "# 모델의 오류 유형을 시각적으로 분석\n",
    "# 시각화 도구로 seaborn.heatmap() 자주 사용\n",
    "from sklearn.metrics import confusion_matrix\n",
    "\n",
    "confusion_matrix(y_true, y_pred)"
   ]
  },
  {
   "cell_type": "code",
   "execution_count": null,
   "id": "7639f615",
   "metadata": {},
   "outputs": [
    {
     "name": "stdout",
     "output_type": "stream",
     "text": [
      "              precision    recall  f1-score   support\n",
      "\n",
      "           0       0.67      1.00      0.80         2\n",
      "           1       1.00      0.75      0.86         4\n",
      "\n",
      "    accuracy                           0.83         6\n",
      "   macro avg       0.83      0.88      0.83         6\n",
      "weighted avg       0.89      0.83      0.84         6\n",
      "\n"
     ]
    }
   ],
   "source": [
    "# 7. Classification Report (요약 리포트)\n",
    "# Precision, Recall, F1, Support를 한 번에 확인\n",
    "from sklearn.metrics import classification_report\n",
    "\n",
    "print(classification_report(y_true, y_pred))"
   ]
  }
 ],
 "metadata": {
  "kernelspec": {
   "display_name": "ml",
   "language": "python",
   "name": "python3"
  },
  "language_info": {
   "codemirror_mode": {
    "name": "ipython",
    "version": 3
   },
   "file_extension": ".py",
   "mimetype": "text/x-python",
   "name": "python",
   "nbconvert_exporter": "python",
   "pygments_lexer": "ipython3",
   "version": "3.13.5"
  }
 },
 "nbformat": 4,
 "nbformat_minor": 5
}
